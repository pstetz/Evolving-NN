{
 "cells": [
  {
   "cell_type": "markdown",
   "metadata": {},
   "source": [
    "### Imports"
   ]
  },
  {
   "cell_type": "code",
   "execution_count": 48,
   "metadata": {
    "collapsed": true
   },
   "outputs": [],
   "source": [
    "import numpy as np\n",
    "import pandas as pd\n",
    "\n",
    "import random\n",
    "import gc"
   ]
  },
  {
   "cell_type": "markdown",
   "metadata": {},
   "source": [
    "### Layer"
   ]
  },
  {
   "cell_type": "code",
   "execution_count": null,
   "metadata": {
    "collapsed": true
   },
   "outputs": [],
   "source": [
    "class Layer:\n",
    "    def __init__(self, weights, bias) :\n",
    "        self.weights = weights\n",
    "        self.bias    = bias\n",
    "        self.shape   = weights.shape\n",
    "        \n",
    "    def printLayer(self):\n",
    "        for i in range(len(self.weights)):\n",
    "            for j in range(len(self.weights[i])):\n",
    "                string = str(self.weights[i][j]).center(3, \" \")\n",
    "                print(string, end=\" \")\n",
    "            print(\" ~  \", end=\"\")\n",
    "            print(self.bias[i])"
   ]
  },
  {
   "cell_type": "markdown",
   "metadata": {},
   "source": [
    "### Convolutional Neural Network"
   ]
  },
  {
   "cell_type": "code",
   "execution_count": 46,
   "metadata": {},
   "outputs": [],
   "source": [
    "class ConvolutionalNeuralNetwork:\n",
    "    def __init__(self):\n",
    "        self.layers     = []\n",
    "        self.num_layers = 0\n",
    "    \n",
    "    def addLayer(self, layer):\n",
    "        self.layers.append(layer)\n",
    "        self.num_layers += 1\n",
    "        \n",
    "    def _feedforward(self):\n",
    "        pass\n",
    "    \n",
    "    def _backpropagation(self):\n",
    "        pass\n",
    "    \n",
    "    def _predict(self, inputs):\n",
    "        for i in self.num_layers:\n",
    "            weights = self.layers[i].weights\n",
    "            bias    = self.layers[i].bias\n",
    "            \n",
    "            inputs = np.dot(inputs, weights) + bias\n",
    "        return inputs\n",
    "    \n",
    "    def predict(self, test_data):\n",
    "        preds = []\n",
    "        for test in test_data:\n",
    "            pred = self._predict(test)\n",
    "        return preds\n",
    "    \n",
    "    def printNthLayer(self, index):\n",
    "        self.layers[index].printLayer()\n",
    "        \n",
    "    def train(self, train_data, val_data, batch_size=10, epochs=1):\n",
    "        train_x, train_y = train_data\n",
    "        val_x,   val_y   = val_data\n",
    "        \n",
    "        del train_data, val_data\n",
    "        gc.collect()\n",
    "        \n",
    "        for _ in range(epochs):\n",
    "            ## feedforward\n",
    "            \n",
    "            ## backpropagate\n",
    "            pass\n",
    "        \n",
    "    def _sigmoid(self, x):\n",
    "        return (1 / (1 + np.exp(-x)))"
   ]
  },
  {
   "cell_type": "markdown",
   "metadata": {},
   "source": [
    "### Testing area"
   ]
  },
  {
   "cell_type": "code",
   "execution_count": 47,
   "metadata": {},
   "outputs": [
    {
     "name": "stdout",
     "output_type": "stream",
     "text": [
      " 1   2   3   ~  3\n",
      " 4   5   6   ~  6\n",
      " 7   8   9   ~  9\n",
      " 10  11  12  ~  12\n"
     ]
    }
   ],
   "source": [
    "weights = np.array([[1, 2, 3],\n",
    "                    [4, 5, 6],\n",
    "                    [7, 8, 9],\n",
    "                    [10, 11, 12]])\n",
    "\n",
    "bias    = np.array([3, 6, 9, 12])\n",
    "\n",
    "nn = ConvolutionalNeuralNetwork()\n",
    "l = Layer(weights, bias)\n",
    "nn.addLayer(l)\n",
    "nn.printNthLayer(0)"
   ]
  },
  {
   "cell_type": "code",
   "execution_count": null,
   "metadata": {
    "collapsed": true
   },
   "outputs": [],
   "source": []
  }
 ],
 "metadata": {
  "kernelspec": {
   "display_name": "Python 3",
   "language": "python",
   "name": "python3"
  },
  "language_info": {
   "codemirror_mode": {
    "name": "ipython",
    "version": 3
   },
   "file_extension": ".py",
   "mimetype": "text/x-python",
   "name": "python",
   "nbconvert_exporter": "python",
   "pygments_lexer": "ipython3",
   "version": "3.6.3"
  }
 },
 "nbformat": 4,
 "nbformat_minor": 2
}
